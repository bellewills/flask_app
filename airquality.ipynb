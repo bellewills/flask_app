{
 "cells": [
  {
   "cell_type": "code",
   "execution_count": 1,
   "id": "26c949f3-5629-486b-aaa7-25ff169cd29a",
   "metadata": {},
   "outputs": [
    {
     "name": "stdout",
     "output_type": "stream",
     "text": [
      "Requirement already satisfied: kaggle in /opt/homebrew/lib/python3.11/site-packages (1.6.14)\n",
      "Requirement already satisfied: six>=1.10 in /opt/homebrew/lib/python3.11/site-packages (from kaggle) (1.16.0)\n",
      "Requirement already satisfied: certifi>=2023.7.22 in /opt/homebrew/lib/python3.11/site-packages (from kaggle) (2024.2.2)\n",
      "Requirement already satisfied: python-dateutil in /Users/bellewills/Library/Python/3.11/lib/python/site-packages (from kaggle) (2.9.0.post0)\n",
      "Requirement already satisfied: requests in /opt/homebrew/lib/python3.11/site-packages (from kaggle) (2.32.2)\n",
      "Requirement already satisfied: tqdm in /opt/homebrew/lib/python3.11/site-packages (from kaggle) (4.66.4)\n",
      "Requirement already satisfied: python-slugify in /opt/homebrew/lib/python3.11/site-packages (from kaggle) (8.0.4)\n",
      "Requirement already satisfied: urllib3 in /opt/homebrew/lib/python3.11/site-packages (from kaggle) (2.2.1)\n",
      "Requirement already satisfied: bleach in /opt/homebrew/lib/python3.11/site-packages (from kaggle) (6.1.0)\n",
      "Requirement already satisfied: webencodings in /opt/homebrew/lib/python3.11/site-packages (from bleach->kaggle) (0.5.1)\n",
      "Requirement already satisfied: text-unidecode>=1.3 in /opt/homebrew/lib/python3.11/site-packages (from python-slugify->kaggle) (1.3)\n",
      "Requirement already satisfied: charset-normalizer<4,>=2 in /opt/homebrew/lib/python3.11/site-packages (from requests->kaggle) (3.3.2)\n",
      "Requirement already satisfied: idna<4,>=2.5 in /opt/homebrew/lib/python3.11/site-packages (from requests->kaggle) (3.7)\n",
      "Note: you may need to restart the kernel to use updated packages.\n"
     ]
    }
   ],
   "source": [
    "#install Kaggle Command Line Tool to use on Jupyter Notebook -here-\n",
    "%pip install kaggle"
   ]
  },
  {
   "cell_type": "code",
   "execution_count": 2,
   "id": "3145f9c4-dbad-4ba3-a6bb-1b79f86fa0f7",
   "metadata": {},
   "outputs": [
    {
     "name": "stdout",
     "output_type": "stream",
     "text": [
      "Kaggle API 1.6.14\n"
     ]
    }
   ],
   "source": [
    "#verify it works\n",
    "!kaggle --version "
   ]
  },
  {
   "cell_type": "code",
   "execution_count": 3,
   "id": "3616d161-f0f9-4ed9-b34a-8435f7479c2a",
   "metadata": {},
   "outputs": [
    {
     "name": "stdout",
     "output_type": "stream",
     "text": [
      "usage: kaggle [-h] [-v]\n",
      "              {competitions,c,datasets,d,kernels,k,models,m,files,f,config}\n",
      "              ...\n",
      "\n",
      "options:\n",
      "  -h, --help            show this help message and exit\n",
      "  -v, --version         show program's version number and exit\n",
      "\n",
      "commands:\n",
      "  {competitions,c,datasets,d,kernels,k,models,m,files,f,config}\n",
      "                        Use one of:\n",
      "                        competitions {list, files, download, submit, submissions, leaderboard}\n",
      "                        datasets {list, files, download, create, version, init, metadata, status}\n",
      "                        kernels {list, files, init, push, pull, output, status}\n",
      "                        models {instances, get, list, init, create, delete, update}\n",
      "                        models instances {versions, get, files, init, create, delete, update}\n",
      "                        models instances versions {init, create, download, delete, files}\n",
      "                        config {view, set, unset}\n",
      "    competitions (c)    Commands related to Kaggle competitions\n",
      "    datasets (d)        Commands related to Kaggle datasets\n",
      "    kernels (k)         Commands related to Kaggle kernels\n",
      "    models (m)          Commands related to Kaggle models\n",
      "    files (f)           Commands related files\n",
      "    config              Configuration settings\n"
     ]
    }
   ],
   "source": [
    "#check commands you can use\n",
    "!kaggle --help"
   ]
  },
  {
   "cell_type": "code",
   "execution_count": 4,
   "id": "5a0544e2-1061-4dbb-8a14-464098440d39",
   "metadata": {},
   "outputs": [
    {
     "name": "stdout",
     "output_type": "stream",
     "text": [
      "usage: kaggle datasets [-h]\n",
      "                       {list,files,download,create,version,init,metadata,status}\n",
      "                       ...\n",
      "\n",
      "options:\n",
      "  -h, --help            show this help message and exit\n",
      "\n",
      "commands:\n",
      "  {list,files,download,create,version,init,metadata,status}\n",
      "    list                List available datasets\n",
      "    files               List dataset files\n",
      "    download            Download dataset files\n",
      "    create              Create a new dataset\n",
      "    version             Create a new dataset version\n",
      "    init                Initialize metadata file for dataset creation\n",
      "    metadata            Download metadata about a dataset\n",
      "    status              Get the creation status for a dataset\n"
     ]
    }
   ],
   "source": [
    "#view datasets comman\n",
    "!kaggle datasets -h"
   ]
  },
  {
   "cell_type": "code",
   "execution_count": 5,
   "id": "d1384eda-d616-4665-9b1a-cc7b039fc85b",
   "metadata": {},
   "outputs": [
    {
     "name": "stdout",
     "output_type": "stream",
     "text": [
      "usage: kaggle datasets list [-h] [--sort-by SORT_BY] [--size SIZE]\n",
      "                            [--file-type FILE_TYPE] [--license LICENSE_NAME]\n",
      "                            [--tags TAG_IDS] [-s SEARCH] [-m] [--user USER]\n",
      "                            [-p PAGE] [-v] [--max-size MAX_SIZE]\n",
      "                            [--min-size MIN_SIZE]\n",
      "\n",
      "options:\n",
      "  -h, --help            show this help message and exit\n",
      "  --sort-by SORT_BY     Sort list results. Default is 'hottest'. Valid options are 'hottest', 'votes', 'updated', and 'active'\n",
      "  --size SIZE           DEPRECATED. Please use --max-size and --min-size to filter dataset sizes.\n",
      "  --file-type FILE_TYPE\n",
      "                        Search for datasets with a specific file type. Default is 'all'. Valid options are 'all', 'csv', 'sqlite', 'json', and 'bigQuery'. Please note that bigQuery datasets cannot be downloaded\n",
      "  --license LICENSE_NAME\n",
      "                        Search for datasets with a specific license. Default is 'all'. Valid options are 'all', 'cc', 'gpl', 'odb', and 'other'\n",
      "  --tags TAG_IDS        Search for datasets that have specific tags. Tag list should be comma separated\n",
      "  -s SEARCH, --search SEARCH\n",
      "                        Term(s) to search for\n",
      "  -m, --mine            Display only my items\n",
      "  --user USER           Find public datasets owned by a specific user or organization\n",
      "  -p PAGE, --page PAGE  Page number for results paging. Page size is 20 by default\n",
      "  -v, --csv             Print results in CSV format (if not set print in table format)\n",
      "  --max-size MAX_SIZE   Specify the maximum size of the dataset to return (bytes)\n",
      "  --min-size MIN_SIZE   Specify the minimum size of the dataset to return (bytes)\n"
     ]
    }
   ],
   "source": [
    "#list available commands to search for dataset\n",
    "!kaggle datasets list -h\n"
   ]
  },
  {
   "cell_type": "code",
   "execution_count": 6,
   "id": "45110ac8-607d-4fa4-a7c4-2b7c73018303",
   "metadata": {},
   "outputs": [
    {
     "name": "stdout",
     "output_type": "stream",
     "text": [
      "401 - Unauthorized - Unauthenticated\n"
     ]
    }
   ],
   "source": [
    "# Search datasets\n",
    "!kaggle datasets list"
   ]
  },
  {
   "cell_type": "code",
   "execution_count": 7,
   "id": "6a649dee-1a42-4443-964a-94dd0d72fa52",
   "metadata": {},
   "outputs": [
    {
     "name": "stdout",
     "output_type": "stream",
     "text": [
      "401 - Unauthorized - Unauthenticated\n"
     ]
    }
   ],
   "source": [
    "# Search datasets for aqi or air quality\n",
    "!kaggle datasets list -s aqi"
   ]
  },
  {
   "cell_type": "code",
   "execution_count": 8,
   "id": "686e5420-97dd-4780-8320-4dfb87dcbbe9",
   "metadata": {},
   "outputs": [
    {
     "name": "stdout",
     "output_type": "stream",
     "text": [
      "name            size  creationDate         \n",
      "-------------  -----  -------------------  \n",
      "data_date.csv  418KB  2023-08-10 13:58:38  \n"
     ]
    }
   ],
   "source": [
    "#use !kaggle datasets files <owner>/<dataset-name> \n",
    "\n",
    "!kaggle datasets files azminetoushikwasi/aqi-air-quality-index-scheduled-daily-update"
   ]
  },
  {
   "cell_type": "code",
   "execution_count": 9,
   "id": "30a12cc0-b1d7-4b95-bedb-5b1cb59bba5e",
   "metadata": {},
   "outputs": [
    {
     "name": "stdout",
     "output_type": "stream",
     "text": [
      "usage: kaggle datasets download [-h] [-f FILE_NAME] [-p PATH] [-w] [--unzip]\n",
      "                                [-o] [-q]\n",
      "                                [dataset]\n",
      "\n",
      "options:\n",
      "  -h, --help            show this help message and exit\n",
      "  dataset               Dataset URL suffix in format <owner>/<dataset-name> (use \"kaggle datasets list\" to show options)\n",
      "  -f FILE_NAME, --file FILE_NAME\n",
      "                        File name, all files downloaded if not provided\n",
      "                        (use \"kaggle datasets files -d <dataset>\" to show options)\n",
      "  -p PATH, --path PATH  Folder where file(s) will be downloaded, defaults to current working directory\n",
      "  -w, --wp              Download files to current working path\n",
      "  --unzip               Unzip the downloaded file. Will delete the zip file when completed.\n",
      "  -o, --force           Skip check whether local version of file is up to date, force file download\n",
      "  -q, --quiet           Suppress printing information about the upload/download progress\n"
     ]
    }
   ],
   "source": [
    "#look at download options \n",
    "!kaggle datasets download -h"
   ]
  },
  {
   "cell_type": "code",
   "execution_count": 10,
   "id": "52f4963c-3046-4df2-b657-1fd385e44a1d",
   "metadata": {},
   "outputs": [
    {
     "name": "stdout",
     "output_type": "stream",
     "text": [
      "Dataset URL: https://www.kaggle.com/datasets/azminetoushikwasi/aqi-air-quality-index-scheduled-daily-update\n",
      "License(s): ODbL-1.0\n",
      "Downloading data_date.csv to /Users/bellewills/flask_app\n",
      "100%|█████████████████████████████████████████| 418k/418k [00:00<00:00, 850kB/s]\n",
      "100%|█████████████████████████████████████████| 418k/418k [00:00<00:00, 847kB/s]\n"
     ]
    }
   ],
   "source": [
    "#download specific file\n",
    "!kaggle datasets download azminetoushikwasi/aqi-air-quality-index-scheduled-daily-update -f data_date.csv "
   ]
  },
  {
   "cell_type": "code",
   "execution_count": 11,
   "id": "c5801fe1-948d-4fa3-8dd3-7a23393b18c4",
   "metadata": {},
   "outputs": [
    {
     "name": "stdout",
     "output_type": "stream",
     "text": [
      "Requirement already satisfied: pandas in /opt/homebrew/lib/python3.11/site-packages (2.2.2)\n",
      "Requirement already satisfied: numpy>=1.23.2 in /opt/homebrew/lib/python3.11/site-packages (from pandas) (1.26.4)\n",
      "Requirement already satisfied: python-dateutil>=2.8.2 in /Users/bellewills/Library/Python/3.11/lib/python/site-packages (from pandas) (2.9.0.post0)\n",
      "Requirement already satisfied: pytz>=2020.1 in /opt/homebrew/lib/python3.11/site-packages (from pandas) (2024.1)\n",
      "Requirement already satisfied: tzdata>=2022.7 in /opt/homebrew/lib/python3.11/site-packages (from pandas) (2024.1)\n",
      "Requirement already satisfied: six>=1.5 in /opt/homebrew/lib/python3.11/site-packages (from python-dateutil>=2.8.2->pandas) (1.16.0)\n",
      "Note: you may need to restart the kernel to use updated packages.\n"
     ]
    }
   ],
   "source": [
    "%pip install pandas"
   ]
  },
  {
   "cell_type": "code",
   "execution_count": 12,
   "id": "4ac94efc-f55c-4343-8269-aaeb010470f7",
   "metadata": {},
   "outputs": [
    {
     "data": {
      "text/html": [
       "<div>\n",
       "<style scoped>\n",
       "    .dataframe tbody tr th:only-of-type {\n",
       "        vertical-align: middle;\n",
       "    }\n",
       "\n",
       "    .dataframe tbody tr th {\n",
       "        vertical-align: top;\n",
       "    }\n",
       "\n",
       "    .dataframe thead th {\n",
       "        text-align: right;\n",
       "    }\n",
       "</style>\n",
       "<table border=\"1\" class=\"dataframe\">\n",
       "  <thead>\n",
       "    <tr style=\"text-align: right;\">\n",
       "      <th></th>\n",
       "      <th>Date</th>\n",
       "      <th>Country</th>\n",
       "      <th>Status</th>\n",
       "      <th>AQI Value</th>\n",
       "    </tr>\n",
       "  </thead>\n",
       "  <tbody>\n",
       "    <tr>\n",
       "      <th>0</th>\n",
       "      <td>2022-07-21</td>\n",
       "      <td>Albania</td>\n",
       "      <td>Good</td>\n",
       "      <td>14</td>\n",
       "    </tr>\n",
       "    <tr>\n",
       "      <th>1</th>\n",
       "      <td>2022-07-21</td>\n",
       "      <td>Algeria</td>\n",
       "      <td>Moderate</td>\n",
       "      <td>65</td>\n",
       "    </tr>\n",
       "    <tr>\n",
       "      <th>2</th>\n",
       "      <td>2022-07-21</td>\n",
       "      <td>Andorra</td>\n",
       "      <td>Moderate</td>\n",
       "      <td>55</td>\n",
       "    </tr>\n",
       "    <tr>\n",
       "      <th>3</th>\n",
       "      <td>2022-07-21</td>\n",
       "      <td>Angola</td>\n",
       "      <td>Unhealthy for Sensitive Groups</td>\n",
       "      <td>113</td>\n",
       "    </tr>\n",
       "    <tr>\n",
       "      <th>4</th>\n",
       "      <td>2022-07-21</td>\n",
       "      <td>Argentina</td>\n",
       "      <td>Moderate</td>\n",
       "      <td>63</td>\n",
       "    </tr>\n",
       "    <tr>\n",
       "      <th>...</th>\n",
       "      <td>...</td>\n",
       "      <td>...</td>\n",
       "      <td>...</td>\n",
       "      <td>...</td>\n",
       "    </tr>\n",
       "    <tr>\n",
       "      <th>12981</th>\n",
       "      <td>2023-08-10</td>\n",
       "      <td>Uzbekistan</td>\n",
       "      <td>Good</td>\n",
       "      <td>28</td>\n",
       "    </tr>\n",
       "    <tr>\n",
       "      <th>12982</th>\n",
       "      <td>2023-08-10</td>\n",
       "      <td>Vatican</td>\n",
       "      <td>Good</td>\n",
       "      <td>34</td>\n",
       "    </tr>\n",
       "    <tr>\n",
       "      <th>12983</th>\n",
       "      <td>2023-08-10</td>\n",
       "      <td>Venezuela</td>\n",
       "      <td>Good</td>\n",
       "      <td>26</td>\n",
       "    </tr>\n",
       "    <tr>\n",
       "      <th>12984</th>\n",
       "      <td>2023-08-10</td>\n",
       "      <td>Vietnam</td>\n",
       "      <td>Unhealthy for Sensitive Groups</td>\n",
       "      <td>142</td>\n",
       "    </tr>\n",
       "    <tr>\n",
       "      <th>12985</th>\n",
       "      <td>2023-08-10</td>\n",
       "      <td>Zambia</td>\n",
       "      <td>Moderate</td>\n",
       "      <td>79</td>\n",
       "    </tr>\n",
       "  </tbody>\n",
       "</table>\n",
       "<p>12986 rows × 4 columns</p>\n",
       "</div>"
      ],
      "text/plain": [
       "             Date     Country                          Status  AQI Value\n",
       "0      2022-07-21     Albania                            Good         14\n",
       "1      2022-07-21     Algeria                        Moderate         65\n",
       "2      2022-07-21     Andorra                        Moderate         55\n",
       "3      2022-07-21      Angola  Unhealthy for Sensitive Groups        113\n",
       "4      2022-07-21   Argentina                        Moderate         63\n",
       "...           ...         ...                             ...        ...\n",
       "12981  2023-08-10  Uzbekistan                            Good         28\n",
       "12982  2023-08-10     Vatican                            Good         34\n",
       "12983  2023-08-10   Venezuela                            Good         26\n",
       "12984  2023-08-10     Vietnam  Unhealthy for Sensitive Groups        142\n",
       "12985  2023-08-10      Zambia                        Moderate         79\n",
       "\n",
       "[12986 rows x 4 columns]"
      ]
     },
     "execution_count": 12,
     "metadata": {},
     "output_type": "execute_result"
    }
   ],
   "source": [
    "import pandas as pd\n",
    "aqi = pd.read_csv(\"data_date.csv\")\n",
    "aqi\n"
   ]
  },
  {
   "cell_type": "code",
   "execution_count": 13,
   "id": "886811d7-db58-4770-92ff-0173152a3f26",
   "metadata": {},
   "outputs": [],
   "source": [
    "#install sql\n",
    "import sqlite3"
   ]
  },
  {
   "cell_type": "code",
   "execution_count": 14,
   "id": "e679b79d-3b7d-4357-bba5-5b0b6cecd29e",
   "metadata": {},
   "outputs": [],
   "source": [
    "#create database called \"aqi.db\"\n",
    "db_connect = sqlite3.connect('aqi.db')"
   ]
  },
  {
   "cell_type": "code",
   "execution_count": 15,
   "id": "a2984275-f265-4ac2-9843-9966e0930aec",
   "metadata": {},
   "outputs": [],
   "source": [
    "#cur (cursors) allow us the execute sql queries! \n",
    "cur = db_connect.cursor()"
   ]
  },
  {
   "cell_type": "code",
   "execution_count": 16,
   "id": "5f41aab5-cfd4-49be-8959-5c87e0687f66",
   "metadata": {},
   "outputs": [
    {
     "data": {
      "text/plain": [
       "<sqlite3.Cursor at 0x12e9d8840>"
      ]
     },
     "execution_count": 16,
     "metadata": {},
     "output_type": "execute_result"
    }
   ],
   "source": [
    "#create table \"aqitable\" with composite unique constraint\n",
    "cur.execute(\"\"\"\n",
    "    CREATE TABLE IF NOT EXISTS aqitable (\n",
    "        ID INTEGER PRIMARY KEY AUTOINCREMENT,\n",
    "        Date DATETIME NOT NULL,\n",
    "        Country TEXT,\n",
    "        Status TEXT,\n",
    "        AQI_Value INTEGER,\n",
    "        UNIQUE(Date, Country)\n",
    "    )\n",
    "\"\"\")\n"
   ]
  },
  {
   "cell_type": "code",
   "execution_count": 17,
   "id": "d20ebcb0-8e83-434b-b814-d5eebfd50edf",
   "metadata": {},
   "outputs": [
    {
     "name": "stdout",
     "output_type": "stream",
     "text": [
      "[('aqitable',), ('sqlite_sequence',)]\n"
     ]
    }
   ],
   "source": [
    "#show all new tables in new SQL database \n",
    "cur.execute (\"SELECT name from sqlite_master where type='table' order by name;\")\n",
    "results = cur.fetchall()\n",
    "print(results) "
   ]
  },
  {
   "cell_type": "code",
   "execution_count": 18,
   "id": "9e36fa1f-649f-4277-9c29-1e90085fbc87",
   "metadata": {},
   "outputs": [],
   "source": [
    "#pandas allow to run SQL querry and save data \n",
    "\n",
    "import pandas as pd"
   ]
  },
  {
   "cell_type": "code",
   "execution_count": 19,
   "id": "3ba47ea7-10fc-4ce0-9d29-2b24b67e7d06",
   "metadata": {},
   "outputs": [
    {
     "data": {
      "text/plain": [
       "12986"
      ]
     },
     "execution_count": 19,
     "metadata": {},
     "output_type": "execute_result"
    }
   ],
   "source": [
    "#Put AQI dataset we found into our sql data as aqi \n",
    "aqi.to_sql('aqitable', db_connect, if_exists='replace', index = False)"
   ]
  },
  {
   "cell_type": "code",
   "execution_count": 20,
   "id": "de4159f4-1172-41ae-aee9-d3f604529291",
   "metadata": {},
   "outputs": [],
   "source": [
    "#query sql tabke inty pythin pandas dataframe\n",
    "latest_aqi = pd.read_sql_query('select * from aqitable limit 100', db_connect)"
   ]
  },
  {
   "cell_type": "code",
   "execution_count": 21,
   "id": "675acd4a-6863-4095-b536-7a30d35991be",
   "metadata": {},
   "outputs": [
    {
     "data": {
      "text/html": [
       "<div>\n",
       "<style scoped>\n",
       "    .dataframe tbody tr th:only-of-type {\n",
       "        vertical-align: middle;\n",
       "    }\n",
       "\n",
       "    .dataframe tbody tr th {\n",
       "        vertical-align: top;\n",
       "    }\n",
       "\n",
       "    .dataframe thead th {\n",
       "        text-align: right;\n",
       "    }\n",
       "</style>\n",
       "<table border=\"1\" class=\"dataframe\">\n",
       "  <thead>\n",
       "    <tr style=\"text-align: right;\">\n",
       "      <th></th>\n",
       "      <th>Date</th>\n",
       "      <th>Country</th>\n",
       "      <th>Status</th>\n",
       "      <th>AQI Value</th>\n",
       "    </tr>\n",
       "  </thead>\n",
       "  <tbody>\n",
       "    <tr>\n",
       "      <th>0</th>\n",
       "      <td>2022-07-21</td>\n",
       "      <td>Albania</td>\n",
       "      <td>Good</td>\n",
       "      <td>14</td>\n",
       "    </tr>\n",
       "    <tr>\n",
       "      <th>1</th>\n",
       "      <td>2022-07-21</td>\n",
       "      <td>Algeria</td>\n",
       "      <td>Moderate</td>\n",
       "      <td>65</td>\n",
       "    </tr>\n",
       "    <tr>\n",
       "      <th>2</th>\n",
       "      <td>2022-07-21</td>\n",
       "      <td>Andorra</td>\n",
       "      <td>Moderate</td>\n",
       "      <td>55</td>\n",
       "    </tr>\n",
       "    <tr>\n",
       "      <th>3</th>\n",
       "      <td>2022-07-21</td>\n",
       "      <td>Angola</td>\n",
       "      <td>Unhealthy for Sensitive Groups</td>\n",
       "      <td>113</td>\n",
       "    </tr>\n",
       "    <tr>\n",
       "      <th>4</th>\n",
       "      <td>2022-07-21</td>\n",
       "      <td>Argentina</td>\n",
       "      <td>Moderate</td>\n",
       "      <td>63</td>\n",
       "    </tr>\n",
       "    <tr>\n",
       "      <th>...</th>\n",
       "      <td>...</td>\n",
       "      <td>...</td>\n",
       "      <td>...</td>\n",
       "      <td>...</td>\n",
       "    </tr>\n",
       "    <tr>\n",
       "      <th>95</th>\n",
       "      <td>2022-07-21</td>\n",
       "      <td>Netherlands</td>\n",
       "      <td>Moderate</td>\n",
       "      <td>70</td>\n",
       "    </tr>\n",
       "    <tr>\n",
       "      <th>96</th>\n",
       "      <td>2022-07-21</td>\n",
       "      <td>New Caledonia</td>\n",
       "      <td>Good</td>\n",
       "      <td>15</td>\n",
       "    </tr>\n",
       "    <tr>\n",
       "      <th>97</th>\n",
       "      <td>2022-07-21</td>\n",
       "      <td>New Zealand</td>\n",
       "      <td>Good</td>\n",
       "      <td>18</td>\n",
       "    </tr>\n",
       "    <tr>\n",
       "      <th>98</th>\n",
       "      <td>2022-07-21</td>\n",
       "      <td>Nigeria</td>\n",
       "      <td>Unhealthy for Sensitive Groups</td>\n",
       "      <td>105</td>\n",
       "    </tr>\n",
       "    <tr>\n",
       "      <th>99</th>\n",
       "      <td>2022-07-21</td>\n",
       "      <td>Norway</td>\n",
       "      <td>Moderate</td>\n",
       "      <td>73</td>\n",
       "    </tr>\n",
       "  </tbody>\n",
       "</table>\n",
       "<p>100 rows × 4 columns</p>\n",
       "</div>"
      ],
      "text/plain": [
       "          Date        Country                          Status  AQI Value\n",
       "0   2022-07-21        Albania                            Good         14\n",
       "1   2022-07-21        Algeria                        Moderate         65\n",
       "2   2022-07-21        Andorra                        Moderate         55\n",
       "3   2022-07-21         Angola  Unhealthy for Sensitive Groups        113\n",
       "4   2022-07-21      Argentina                        Moderate         63\n",
       "..         ...            ...                             ...        ...\n",
       "95  2022-07-21    Netherlands                        Moderate         70\n",
       "96  2022-07-21  New Caledonia                            Good         15\n",
       "97  2022-07-21    New Zealand                            Good         18\n",
       "98  2022-07-21        Nigeria  Unhealthy for Sensitive Groups        105\n",
       "99  2022-07-21         Norway                        Moderate         73\n",
       "\n",
       "[100 rows x 4 columns]"
      ]
     },
     "execution_count": 21,
     "metadata": {},
     "output_type": "execute_result"
    }
   ],
   "source": [
    "#view latest aqi data\n",
    "latest_aqi"
   ]
  },
  {
   "cell_type": "code",
   "execution_count": 22,
   "id": "e62b087a-8320-4505-b7aa-f7ad5f59239e",
   "metadata": {
    "scrolled": true
   },
   "outputs": [
    {
     "name": "stdout",
     "output_type": "stream",
     "text": [
      "AQI DataFrame columns: Index(['Date', 'Country', 'Status', 'AQI Value'], dtype='object')\n",
      "Weather DataFrame columns: Index(['country', 'location_name', 'latitude', 'longitude', 'timezone',\n",
      "       'last_updated_epoch', 'last_updated', 'temperature_celsius',\n",
      "       'temperature_fahrenheit', 'condition_text', 'wind_mph', 'wind_kph',\n",
      "       'wind_degree', 'wind_direction', 'pressure_mb', 'pressure_in',\n",
      "       'precip_mm', 'precip_in', 'humidity', 'cloud', 'feels_like_celsius',\n",
      "       'feels_like_fahrenheit', 'visibility_km', 'visibility_miles',\n",
      "       'uv_index', 'gust_mph', 'gust_kph', 'air_quality_Carbon_Monoxide',\n",
      "       'air_quality_Ozone', 'air_quality_Nitrogen_dioxide',\n",
      "       'air_quality_Sulphur_dioxide', 'air_quality_PM2.5', 'air_quality_PM10',\n",
      "       'air_quality_us-epa-index', 'air_quality_gb-defra-index', 'sunrise',\n",
      "       'sunset', 'moonrise', 'moonset', 'moon_phase', 'moon_illumination'],\n",
      "      dtype='object')\n",
      "Pollution DataFrame columns: Index(['Country', 'City', 'AQI Value', 'AQI Category', 'CO AQI Value',\n",
      "       'CO AQI Category', 'Ozone AQI Value', 'Ozone AQI Category',\n",
      "       'NO2 AQI Value', 'NO2 AQI Category', 'PM2.5 AQI Value',\n",
      "       'PM2.5 AQI Category'],\n",
      "      dtype='object')\n"
     ]
    }
   ],
   "source": [
    "import pandas as pd\n",
    "\n",
    "# Define the correct paths for the CSV files\n",
    "aqi_file_path = '/Users/bellewills/data/data_date.csv'\n",
    "weather_file_path = '/Users/bellewills/data/GlobalWeatherRepository.csv'\n",
    "pollution_file_path = '/Users/bellewills/data/global air pollution dataset.csv'\n",
    "\n",
    "# Load datasets into pandas DataFrames\n",
    "df_aqi = pd.read_csv(aqi_file_path)\n",
    "df_weather = pd.read_csv(weather_file_path)\n",
    "df_pollution = pd.read_csv(pollution_file_path)\n",
    "\n",
    "# Print column names to identify correct names\n",
    "print(\"AQI DataFrame columns:\", df_aqi.columns)\n",
    "print(\"Weather DataFrame columns:\", df_weather.columns)\n",
    "print(\"Pollution DataFrame columns:\", df_pollution.columns)\n"
   ]
  },
  {
   "cell_type": "code",
   "execution_count": 23,
   "id": "5d6db811-8367-4dee-82b9-dddb8e75640d",
   "metadata": {},
   "outputs": [
    {
     "name": "stdout",
     "output_type": "stream",
     "text": [
      "AQI DataFrame columns: Index(['Date', 'Country', 'Status', 'AQI Value'], dtype='object')\n",
      "Weather DataFrame columns: Index(['country', 'location_name', 'latitude', 'longitude', 'timezone',\n",
      "       'last_updated_epoch', 'last_updated', 'temperature_celsius',\n",
      "       'temperature_fahrenheit', 'condition_text', 'wind_mph', 'wind_kph',\n",
      "       'wind_degree', 'wind_direction', 'pressure_mb', 'pressure_in',\n",
      "       'precip_mm', 'precip_in', 'humidity', 'cloud', 'feels_like_celsius',\n",
      "       'feels_like_fahrenheit', 'visibility_km', 'visibility_miles',\n",
      "       'uv_index', 'gust_mph', 'gust_kph', 'air_quality_Carbon_Monoxide',\n",
      "       'air_quality_Ozone', 'air_quality_Nitrogen_dioxide',\n",
      "       'air_quality_Sulphur_dioxide', 'air_quality_PM2.5', 'air_quality_PM10',\n",
      "       'air_quality_us-epa-index', 'air_quality_gb-defra-index', 'sunrise',\n",
      "       'sunset', 'moonrise', 'moonset', 'moon_phase', 'moon_illumination'],\n",
      "      dtype='object')\n",
      "Pollution DataFrame columns: Index(['Country', 'City', 'AQI Value', 'AQI Category', 'CO AQI Value',\n",
      "       'CO AQI Category', 'Ozone AQI Value', 'Ozone AQI Category',\n",
      "       'NO2 AQI Value', 'NO2 AQI Category', 'PM2.5 AQI Value',\n",
      "       'PM2.5 AQI Category'],\n",
      "      dtype='object')\n"
     ]
    }
   ],
   "source": [
    "import pandas as pd\n",
    "import sqlite3\n",
    "\n",
    "# Define the correct paths for the CSV files\n",
    "aqi_file_path = '/Users/bellewills/data/data_date.csv'\n",
    "weather_file_path = '/Users/bellewills/data/GlobalWeatherRepository.csv'\n",
    "pollution_file_path = '/Users/bellewills/data/global air pollution dataset.csv'\n",
    "\n",
    "# Load datasets into pandas DataFrames\n",
    "df_aqi = pd.read_csv(aqi_file_path)\n",
    "df_weather = pd.read_csv(weather_file_path)\n",
    "df_pollution = pd.read_csv(pollution_file_path)\n",
    "\n",
    "# Print column names to identify correct names\n",
    "print(\"AQI DataFrame columns:\", df_aqi.columns)\n",
    "print(\"Weather DataFrame columns:\", df_weather.columns)\n",
    "print(\"Pollution DataFrame columns:\", df_pollution.columns)\n",
    "\n",
    "# Create a SQLite database\n",
    "conn = sqlite3.connect('aqi_database.db')\n",
    "\n",
    "# Create and populate the locations table\n",
    "df_locations_aqi = df_aqi[['Country']].drop_duplicates().reset_index(drop=True)\n",
    "df_locations_weather = df_weather[['country', 'location_name', 'latitude', 'longitude']].drop_duplicates().reset_index(drop=True)\n",
    "df_locations_pollution = df_pollution[['Country', 'City']].drop_duplicates().reset_index(drop=True)\n",
    "\n",
    "df_locations_aqi.rename(columns={'Country': 'country'}, inplace=True)\n",
    "df_locations_weather.rename(columns={'country': 'country', 'location_name': 'city'}, inplace=True)\n",
    "df_locations_pollution.rename(columns={'Country': 'country', 'City': 'city'}, inplace=True)\n",
    "\n",
    "# Combine all locations into one DataFrame\n",
    "df_locations = pd.concat([df_locations_aqi, df_locations_weather, df_locations_pollution]).drop_duplicates().reset_index(drop=True)\n",
    "df_locations['location_id'] = df_locations.index + 1\n",
    "\n",
    "# Create and populate the measurements table\n",
    "df_measurements_aqi = df_aqi[['Country', 'Date', 'AQI Value']]\n",
    "df_measurements_aqi = df_measurements_aqi.rename(columns={'Country': 'country', 'Date': 'date', 'AQI Value': 'value'})\n",
    "df_measurements_aqi['parameter'] = 'AQI'\n",
    "df_measurements_aqi['source'] = 'aqi'\n",
    "\n",
    "df_measurements_weather = df_weather[['country', 'location_name', 'temperature_celsius', 'last_updated']]\n",
    "df_measurements_weather = df_measurements_weather.rename(columns={'country': 'country', 'location_name': 'city', 'temperature_celsius': 'value', 'last_updated': 'date'})\n",
    "df_measurements_weather['parameter'] = 'Temperature'\n",
    "df_measurements_weather['source'] = 'weather'\n",
    "\n",
    "df_measurements_pollution = df_pollution[['Country', 'City', 'CO AQI Value', 'NO2 AQI Value', 'Ozone AQI Value', 'PM2.5 AQI Value']]\n",
    "df_measurements_pollution = df_measurements_pollution.melt(id_vars=['Country', 'City'], var_name='parameter', value_name='value')\n",
    "df_measurements_pollution = df_measurements_pollution.rename(columns={'Country': 'country', 'City': 'city'})\n",
    "df_measurements_pollution['source'] = 'pollution'\n",
    "\n",
    "df_measurements = pd.concat([df_measurements_aqi, df_measurements_weather, df_measurements_pollution]).drop_duplicates().reset_index(drop=True)\n",
    "df_measurements = df_measurements.merge(df_locations[['location_id', 'country', 'city']], on=['country', 'city'])\n",
    "\n",
    "# Create and populate the parameters table\n",
    "df_parameters = df_measurements[['parameter']].drop_duplicates().reset_index(drop=True)\n",
    "df_parameters['parameter_id'] = df_parameters.index + 1\n",
    "\n",
    "# Merge parameter_id into measurements\n",
    "df_measurements = df_measurements.merge(df_parameters, on='parameter')\n",
    "\n",
    "# Save DataFrames to SQL tables\n",
    "df_locations.to_sql('locations', conn, if_exists='replace', index=False)\n",
    "df_measurements.to_sql('measurements', conn, if_exists='replace', index=False)\n",
    "df_parameters.to_sql('parameters', conn, if_exists='replace', index=False)\n",
    "\n",
    "# Close the database connection\n",
    "conn.close()\n"
   ]
  },
  {
   "cell_type": "code",
   "execution_count": 24,
   "id": "cafc0bdd-8f95-4c45-8c9d-6544df37fc9c",
   "metadata": {},
   "outputs": [
    {
     "name": "stdout",
     "output_type": "stream",
     "text": [
      "Tables in the database: ['sqlite_sequence', 'locations', 'measurements', 'parameters']\n",
      "\n",
      "Preview of sqlite_sequence table:\n",
      "Empty DataFrame\n",
      "Columns: [name, seq]\n",
      "Index: []\n",
      "\n",
      "Preview of locations table:\n",
      "     country  city latitude longitude  location_id\n",
      "0    Albania  None     None      None            1\n",
      "1    Algeria  None     None      None            2\n",
      "2    Andorra  None     None      None            3\n",
      "3     Angola  None     None      None            4\n",
      "4  Argentina  None     None      None            5\n",
      "\n",
      "Preview of measurements table:\n",
      "     country        date  value parameter source  city  location_id  \\\n",
      "0    Albania  2022-07-21   14.0       AQI    aqi  None            1   \n",
      "1    Algeria  2022-07-21   65.0       AQI    aqi  None            2   \n",
      "2    Andorra  2022-07-21   55.0       AQI    aqi  None            3   \n",
      "3     Angola  2022-07-21  113.0       AQI    aqi  None            4   \n",
      "4  Argentina  2022-07-21   63.0       AQI    aqi  None            5   \n",
      "\n",
      "   parameter_id  \n",
      "0             1  \n",
      "1             1  \n",
      "2             1  \n",
      "3             1  \n",
      "4             1  \n",
      "\n",
      "Preview of parameters table:\n",
      "         parameter  parameter_id\n",
      "0              AQI             1\n",
      "1      Temperature             2\n",
      "2     CO AQI Value             3\n",
      "3    NO2 AQI Value             4\n",
      "4  Ozone AQI Value             5\n"
     ]
    }
   ],
   "source": [
    "import sqlite3\n",
    "import pandas as pd\n",
    "\n",
    "# Connect to the SQLite database\n",
    "conn = sqlite3.connect('aqi_database.db')\n",
    "\n",
    "# Function to list all tables\n",
    "def list_tables(conn):\n",
    "    query = \"SELECT name FROM sqlite_master WHERE type='table';\"\n",
    "    result = conn.execute(query).fetchall()\n",
    "    tables = [row[0] for row in result]\n",
    "    return tables\n",
    "\n",
    "# Function to get a preview of a table\n",
    "def preview_table(conn, table_name, limit=5):\n",
    "    query = f\"SELECT * FROM {table_name} LIMIT {limit};\"\n",
    "    df = pd.read_sql_query(query, conn)\n",
    "    return df\n",
    "\n",
    "# List all tables in the database\n",
    "tables = list_tables(conn)\n",
    "print(\"Tables in the database:\", tables)\n",
    "\n",
    "# Preview each table\n",
    "for table in tables:\n",
    "    print(f\"\\nPreview of {table} table:\")\n",
    "    print(preview_table(conn, table))\n",
    "\n",
    "# Close the connection\n",
    "conn.close()\n"
   ]
  },
  {
   "cell_type": "code",
   "execution_count": 25,
   "id": "8610ee0a-ebb4-4d23-b2e1-26385819d9ee",
   "metadata": {},
   "outputs": [
    {
     "name": "stdout",
     "output_type": "stream",
     "text": [
      "Requirement already satisfied: flask in /opt/homebrew/lib/python3.11/site-packages (3.0.3)\n",
      "Requirement already satisfied: Werkzeug>=3.0.0 in /opt/homebrew/lib/python3.11/site-packages (from flask) (3.0.3)\n",
      "Requirement already satisfied: Jinja2>=3.1.2 in /opt/homebrew/lib/python3.11/site-packages (from flask) (3.1.4)\n",
      "Requirement already satisfied: itsdangerous>=2.1.2 in /opt/homebrew/lib/python3.11/site-packages (from flask) (2.2.0)\n",
      "Requirement already satisfied: click>=8.1.3 in /opt/homebrew/lib/python3.11/site-packages (from flask) (8.1.7)\n",
      "Requirement already satisfied: blinker>=1.6.2 in /opt/homebrew/lib/python3.11/site-packages (from flask) (1.8.2)\n",
      "Requirement already satisfied: MarkupSafe>=2.0 in /opt/homebrew/lib/python3.11/site-packages (from Jinja2>=3.1.2->flask) (2.1.5)\n",
      "Note: you may need to restart the kernel to use updated packages.\n"
     ]
    }
   ],
   "source": [
    "%pip install flask"
   ]
  },
  {
   "cell_type": "code",
   "execution_count": 26,
   "id": "f9a5cd09",
   "metadata": {},
   "outputs": [
    {
     "name": "stdout",
     "output_type": "stream",
     "text": [
      "Requirement already satisfied: pip in /opt/homebrew/lib/python3.11/site-packages (24.0)\n"
     ]
    }
   ],
   "source": [
    "!python3.11 -m pip install --upgrade pip"
   ]
  },
  {
   "cell_type": "code",
   "execution_count": 1,
   "id": "2e19b049-1bec-490c-8d68-4a015cdde2f4",
   "metadata": {},
   "outputs": [
    {
     "name": "stdout",
     "output_type": "stream",
     "text": [
      " * Serving Flask app '__main__'\n",
      " * Debug mode: on\n"
     ]
    },
    {
     "name": "stderr",
     "output_type": "stream",
     "text": [
      "\u001b[31m\u001b[1mWARNING: This is a development server. Do not use it in a production deployment. Use a production WSGI server instead.\u001b[0m\n",
      " * Running on http://127.0.0.1:5100\n",
      "\u001b[33mPress CTRL+C to quit\u001b[0m\n",
      " * Restarting with stat\n",
      "Traceback (most recent call last):\n",
      "  File \"<frozen runpy>\", line 198, in _run_module_as_main\n",
      "  File \"<frozen runpy>\", line 88, in _run_code\n",
      "  File \"/Users/bellewills/Library/Python/3.11/lib/python/site-packages/ipykernel_launcher.py\", line 18, in <module>\n",
      "    app.launch_new_instance()\n",
      "  File \"/Users/bellewills/Library/Python/3.11/lib/python/site-packages/traitlets/config/application.py\", line 1074, in launch_instance\n",
      "    app.initialize(argv)\n",
      "  File \"/Users/bellewills/Library/Python/3.11/lib/python/site-packages/traitlets/config/application.py\", line 118, in inner\n",
      "    return method(app, *args, **kwargs)\n",
      "           ^^^^^^^^^^^^^^^^^^^^^^^^^^^^\n",
      "  File \"/Users/bellewills/Library/Python/3.11/lib/python/site-packages/ipykernel/kernelapp.py\", line 692, in initialize\n",
      "    self.init_sockets()\n",
      "  File \"/Users/bellewills/Library/Python/3.11/lib/python/site-packages/ipykernel/kernelapp.py\", line 331, in init_sockets\n",
      "    self.shell_port = self._bind_socket(self.shell_socket, self.shell_port)\n",
      "                      ^^^^^^^^^^^^^^^^^^^^^^^^^^^^^^^^^^^^^^^^^^^^^^^^^^^^^\n",
      "  File \"/Users/bellewills/Library/Python/3.11/lib/python/site-packages/ipykernel/kernelapp.py\", line 253, in _bind_socket\n",
      "    return self._try_bind_socket(s, port)\n",
      "           ^^^^^^^^^^^^^^^^^^^^^^^^^^^^^^\n",
      "  File \"/Users/bellewills/Library/Python/3.11/lib/python/site-packages/ipykernel/kernelapp.py\", line 229, in _try_bind_socket\n",
      "    s.bind(\"tcp://%s:%i\" % (self.ip, port))\n",
      "  File \"/Users/bellewills/Library/Python/3.11/lib/python/site-packages/zmq/sugar/socket.py\", line 311, in bind\n",
      "    super().bind(addr)\n",
      "  File \"_zmq.py\", line 898, in zmq.backend.cython._zmq.Socket.bind\n",
      "  File \"_zmq.py\", line 160, in zmq.backend.cython._zmq._check_rc\n",
      "zmq.error.ZMQError: Address already in use (addr='tcp://127.0.0.1:9002')\n"
     ]
    },
    {
     "ename": "SystemExit",
     "evalue": "1",
     "output_type": "error",
     "traceback": [
      "An exception has occurred, use %tb to see the full traceback.\n",
      "\u001b[0;31mSystemExit\u001b[0m\u001b[0;31m:\u001b[0m 1\n"
     ]
    },
    {
     "name": "stderr",
     "output_type": "stream",
     "text": [
      "/Users/bellewills/Library/Python/3.11/lib/python/site-packages/IPython/core/interactiveshell.py:3585: UserWarning: To exit: use 'exit', 'quit', or Ctrl-D.\n",
      "  warn(\"To exit: use 'exit', 'quit', or Ctrl-D.\", stacklevel=1)\n"
     ]
    }
   ],
   "source": [
    "from flask import Flask, render_template\n",
    "import pandas as pd\n",
    "import sqlite3\n",
    "\n",
    "app = Flask(__name__, template_folder='templates')\n",
    "\n",
    "def get_db_connection():\n",
    "    conn = sqlite3.connect('aqi_database.db')\n",
    "    conn.row_factory = sqlite3.Row\n",
    "    return conn\n",
    "\n",
    "def list_tables(conn):\n",
    "    cursor = conn.cursor()\n",
    "    cursor.execute(\"SELECT name FROM sqlite_master WHERE type='table';\")\n",
    "    tables = [row[0] for row in cursor.fetchall()]\n",
    "    return tables\n",
    "\n",
    "@app.route('/')\n",
    "def index():\n",
    "    conn = get_db_connection()\n",
    "    tables = list_tables(conn)\n",
    "    table_data = {}\n",
    "    for table in tables:\n",
    "        query = f\"SELECT * FROM {table};\"\n",
    "        df = pd.read_sql_query(query, conn)\n",
    "        table_data[table] = df.to_html(classes='data', header=True, index=False)\n",
    "    conn.close()\n",
    "    return render_template('index.html', tables=table_data)\n",
    "\n",
    "if __name__ == \"__main__\":\n",
    "    app.run(debug=True, port=5100)  # Change the port number to an unused port\n"
   ]
  },
  {
   "cell_type": "code",
   "execution_count": null,
   "id": "da7ff54d",
   "metadata": {},
   "outputs": [],
   "source": []
  }
 ],
 "metadata": {
  "kernelspec": {
   "display_name": "Python 3 (ipykernel)",
   "language": "python",
   "name": "python3"
  },
  "language_info": {
   "codemirror_mode": {
    "name": "ipython",
    "version": 3
   },
   "file_extension": ".py",
   "mimetype": "text/x-python",
   "name": "python",
   "nbconvert_exporter": "python",
   "pygments_lexer": "ipython3",
   "version": "3.11.4"
  }
 },
 "nbformat": 4,
 "nbformat_minor": 5
}
